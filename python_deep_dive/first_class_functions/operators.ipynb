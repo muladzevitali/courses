{
 "cells": [
  {
   "cell_type": "code",
   "execution_count": 1,
   "metadata": {
    "collapsed": true,
    "pycharm": {
     "name": "#%%\n"
    }
   },
   "outputs": [],
   "source": [
    "import operator"
   ]
  },
  {
   "cell_type": "code",
   "execution_count": 2,
   "outputs": [
    {
     "data": {
      "text/plain": "['__abs__',\n '__add__',\n '__all__',\n '__and__',\n '__builtins__',\n '__cached__',\n '__concat__',\n '__contains__',\n '__delitem__',\n '__doc__',\n '__eq__',\n '__file__',\n '__floordiv__',\n '__ge__',\n '__getitem__',\n '__gt__',\n '__iadd__',\n '__iand__',\n '__iconcat__',\n '__ifloordiv__',\n '__ilshift__',\n '__imatmul__',\n '__imod__',\n '__imul__',\n '__index__',\n '__inv__',\n '__invert__',\n '__ior__',\n '__ipow__',\n '__irshift__',\n '__isub__',\n '__itruediv__',\n '__ixor__',\n '__le__',\n '__loader__',\n '__lshift__',\n '__lt__',\n '__matmul__',\n '__mod__',\n '__mul__',\n '__name__',\n '__ne__',\n '__neg__',\n '__not__',\n '__or__',\n '__package__',\n '__pos__',\n '__pow__',\n '__rshift__',\n '__setitem__',\n '__spec__',\n '__sub__',\n '__truediv__',\n '__xor__',\n '_abs',\n 'abs',\n 'add',\n 'and_',\n 'attrgetter',\n 'concat',\n 'contains',\n 'countOf',\n 'delitem',\n 'eq',\n 'floordiv',\n 'ge',\n 'getitem',\n 'gt',\n 'iadd',\n 'iand',\n 'iconcat',\n 'ifloordiv',\n 'ilshift',\n 'imatmul',\n 'imod',\n 'imul',\n 'index',\n 'indexOf',\n 'inv',\n 'invert',\n 'ior',\n 'ipow',\n 'irshift',\n 'is_',\n 'is_not',\n 'isub',\n 'itemgetter',\n 'itruediv',\n 'ixor',\n 'le',\n 'length_hint',\n 'lshift',\n 'lt',\n 'matmul',\n 'methodcaller',\n 'mod',\n 'mul',\n 'ne',\n 'neg',\n 'not_',\n 'or_',\n 'pos',\n 'pow',\n 'rshift',\n 'setitem',\n 'sub',\n 'truediv',\n 'truth',\n 'xor']"
     },
     "execution_count": 2,
     "metadata": {},
     "output_type": "execute_result"
    }
   ],
   "source": [
    "dir(operator)"
   ],
   "metadata": {
    "collapsed": false,
    "pycharm": {
     "name": "#%%\n"
    }
   }
  },
  {
   "cell_type": "code",
   "execution_count": 4,
   "outputs": [
    {
     "ename": "AttributeError",
     "evalue": "'builtin_function_or_method' object has no attribute '__code__'",
     "output_type": "error",
     "traceback": [
      "\u001B[0;31m---------------------------------------------------------------------------\u001B[0m",
      "\u001B[0;31mAttributeError\u001B[0m                            Traceback (most recent call last)",
      "Cell \u001B[0;32mIn [4], line 1\u001B[0m\n\u001B[0;32m----> 1\u001B[0m operator\u001B[38;5;241m.\u001B[39m\u001B[38;5;21m__ne__\u001B[39m\u001B[38;5;241m.\u001B[39m\u001B[38;5;18m__code__\u001B[39m\n",
      "\u001B[0;31mAttributeError\u001B[0m: 'builtin_function_or_method' object has no attribute '__code__'"
     ]
    }
   ],
   "source": [],
   "metadata": {
    "collapsed": false,
    "pycharm": {
     "name": "#%%\n"
    }
   }
  },
  {
   "cell_type": "code",
   "execution_count": null,
   "outputs": [],
   "source": [],
   "metadata": {
    "collapsed": false,
    "pycharm": {
     "name": "#%%\n"
    }
   }
  }
 ],
 "metadata": {
  "kernelspec": {
   "display_name": "Python 3",
   "language": "python",
   "name": "python3"
  },
  "language_info": {
   "codemirror_mode": {
    "name": "ipython",
    "version": 2
   },
   "file_extension": ".py",
   "mimetype": "text/x-python",
   "name": "python",
   "nbconvert_exporter": "python",
   "pygments_lexer": "ipython2",
   "version": "2.7.6"
  }
 },
 "nbformat": 4,
 "nbformat_minor": 0
}