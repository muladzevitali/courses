{
 "cells": [
  {
   "cell_type": "code",
   "execution_count": 1,
   "metadata": {
    "collapsed": true,
    "pycharm": {
     "name": "#%%\n"
    }
   },
   "outputs": [
    {
     "data": {
      "text/plain": "{'__name__': '__main__',\n '__doc__': 'Automatically created module for IPython interactive environment',\n '__package__': None,\n '__loader__': None,\n '__spec__': None,\n '__builtin__': <module 'builtins' (built-in)>,\n '__builtins__': <module 'builtins' (built-in)>,\n '_ih': ['', 'globals()'],\n '_oh': {},\n '_dh': [PosixPath('/Users/vitalim/Projects/courses/python_deep_dive/modules_packages')],\n 'In': ['', 'globals()'],\n 'Out': {},\n 'get_ipython': <bound method InteractiveShell.get_ipython of <ipykernel.zmqshell.ZMQInteractiveShell object at 0x10caeb4c0>>,\n 'exit': <IPython.core.autocall.ZMQExitAutocall at 0x10cb00250>,\n 'quit': <IPython.core.autocall.ZMQExitAutocall at 0x10cb00250>,\n '_': '',\n '__': '',\n '___': '',\n '_i': '',\n '_ii': '',\n '_iii': '',\n '_i1': 'globals()'}"
     },
     "execution_count": 1,
     "metadata": {},
     "output_type": "execute_result"
    }
   ],
   "source": [
    "globals()"
   ]
  },
  {
   "cell_type": "code",
   "execution_count": 12,
   "outputs": [],
   "source": [
    "a = 1000\n",
    "def func():\n",
    "    a = 10\n",
    "    b = 20\n",
    "    print(locals())\n",
    "    return 19"
   ],
   "metadata": {
    "collapsed": false,
    "pycharm": {
     "name": "#%%\n"
    }
   }
  },
  {
   "cell_type": "code",
   "execution_count": 13,
   "outputs": [
    {
     "name": "stdout",
     "output_type": "stream",
     "text": [
      "{'a': 10, 'b': 20}\n"
     ]
    },
    {
     "data": {
      "text/plain": "19"
     },
     "execution_count": 13,
     "metadata": {},
     "output_type": "execute_result"
    }
   ],
   "source": [
    "globals()['func']()"
   ],
   "metadata": {
    "collapsed": false,
    "pycharm": {
     "name": "#%%\n"
    }
   }
  },
  {
   "cell_type": "code",
   "execution_count": 14,
   "outputs": [
    {
     "data": {
      "text/plain": "{'__name__': '__main__',\n '__doc__': 'Automatically created module for IPython interactive environment',\n '__package__': None,\n '__loader__': None,\n '__spec__': None,\n '__builtin__': <module 'builtins' (built-in)>,\n '__builtins__': <module 'builtins' (built-in)>,\n '_ih': ['',\n  'globals()',\n  'def func():\\n    return 19',\n  'globals()',\n  \"globals()['func']\",\n  \"globals()['func']()\",\n  'locals()',\n  'locals() is globals()',\n  'def func():\\n    print(locals())\\n    return 19',\n  \"globals()['func']()\",\n  'def func():\\n    a = 10\\n    b = 20\\n    print(locals())\\n    return 19',\n  \"globals()['func']()\",\n  'a = 1000\\ndef func():\\n    a = 10\\n    b = 20\\n    print(locals())\\n    return 19',\n  \"globals()['func']()\",\n  'globals()'],\n '_oh': {1: {...},\n  3: {...},\n  4: <function __main__.func()>,\n  5: 19,\n  6: {...},\n  7: True,\n  9: 19,\n  11: 19,\n  13: 19},\n '_dh': [PosixPath('/Users/vitalim/Projects/courses/python_deep_dive/modules_packages')],\n 'In': ['',\n  'globals()',\n  'def func():\\n    return 19',\n  'globals()',\n  \"globals()['func']\",\n  \"globals()['func']()\",\n  'locals()',\n  'locals() is globals()',\n  'def func():\\n    print(locals())\\n    return 19',\n  \"globals()['func']()\",\n  'def func():\\n    a = 10\\n    b = 20\\n    print(locals())\\n    return 19',\n  \"globals()['func']()\",\n  'a = 1000\\ndef func():\\n    a = 10\\n    b = 20\\n    print(locals())\\n    return 19',\n  \"globals()['func']()\",\n  'globals()'],\n 'Out': {1: {...},\n  3: {...},\n  4: <function __main__.func()>,\n  5: 19,\n  6: {...},\n  7: True,\n  9: 19,\n  11: 19,\n  13: 19},\n 'get_ipython': <bound method InteractiveShell.get_ipython of <ipykernel.zmqshell.ZMQInteractiveShell object at 0x10caeb4c0>>,\n 'exit': <IPython.core.autocall.ZMQExitAutocall at 0x10cb00250>,\n 'quit': <IPython.core.autocall.ZMQExitAutocall at 0x10cb00250>,\n '_': 19,\n '__': 19,\n '___': 19,\n '_i': \"globals()['func']()\",\n '_ii': 'a = 1000\\ndef func():\\n    a = 10\\n    b = 20\\n    print(locals())\\n    return 19',\n '_iii': \"globals()['func']()\",\n '_i1': 'globals()',\n '_1': {...},\n 'sys': <module 'sys' (built-in)>,\n 'remove_imported_pydev_package': <function pydev_jupyter_utils.remove_imported_pydev_package()>,\n '_pydevd_bundle': <module '_pydevd_bundle' from '/Users/vitalim/Library/Application Support/JetBrains/IntelliJIdea2022.2/plugins/python/helpers/pydev/_pydevd_bundle/__init__.py'>,\n 'pydev_jupyter_vars': <module 'pydev_jupyter_vars' from '/Users/vitalim/Library/Application Support/JetBrains/IntelliJIdea2022.2/plugins/python/helpers-pro/jupyter_debug/pydev_jupyter_vars.py'>,\n 'DataFrame': pandas.core.frame.DataFrame,\n 'MultiIndex': pandas.core.indexes.multi.MultiIndex,\n '_i2': 'def func():\\n    return 19',\n 'func': <function __main__.func()>,\n '_i3': 'globals()',\n '_3': {...},\n '_i4': \"globals()['func']\",\n '_4': <function __main__.func()>,\n '_i5': \"globals()['func']()\",\n '_5': 19,\n '_i6': 'locals()',\n '_6': {...},\n '_i7': 'locals() is globals()',\n '_7': True,\n '_i8': 'def func():\\n    print(locals())\\n    return 19',\n '_i9': \"globals()['func']()\",\n '_9': 19,\n '_i10': 'def func():\\n    a = 10\\n    b = 20\\n    print(locals())\\n    return 19',\n '_i11': \"globals()['func']()\",\n '_11': 19,\n '_i12': 'a = 1000\\ndef func():\\n    a = 10\\n    b = 20\\n    print(locals())\\n    return 19',\n 'a': 1000,\n '_i13': \"globals()['func']()\",\n '_13': 19,\n '_i14': 'globals()'}"
     },
     "execution_count": 14,
     "metadata": {},
     "output_type": "execute_result"
    }
   ],
   "source": [
    "globals()"
   ],
   "metadata": {
    "collapsed": false,
    "pycharm": {
     "name": "#%%\n"
    }
   }
  },
  {
   "cell_type": "code",
   "execution_count": 16,
   "outputs": [],
   "source": [
    "import fractions"
   ],
   "metadata": {
    "collapsed": false,
    "pycharm": {
     "name": "#%%\n"
    }
   }
  },
  {
   "cell_type": "code",
   "execution_count": 17,
   "outputs": [
    {
     "data": {
      "text/plain": "<module 'fractions' from '/usr/local/opt/python@3.8/Frameworks/Python.framework/Versions/3.8/lib/python3.8/fractions.py'>"
     },
     "execution_count": 17,
     "metadata": {},
     "output_type": "execute_result"
    }
   ],
   "source": [
    "fractions"
   ],
   "metadata": {
    "collapsed": false,
    "pycharm": {
     "name": "#%%\n"
    }
   }
  },
  {
   "cell_type": "code",
   "execution_count": 21,
   "outputs": [
    {
     "data": {
      "text/plain": "<module 'fractions' from '/usr/local/opt/python@3.8/Frameworks/Python.framework/Versions/3.8/lib/python3.8/fractions.py'>"
     },
     "execution_count": 21,
     "metadata": {},
     "output_type": "execute_result"
    }
   ],
   "source": [
    "globals()[\"fractions\"]"
   ],
   "metadata": {
    "collapsed": false,
    "pycharm": {
     "name": "#%%\n"
    }
   }
  },
  {
   "cell_type": "code",
   "execution_count": 22,
   "outputs": [
    {
     "data": {
      "text/plain": "module"
     },
     "execution_count": 22,
     "metadata": {},
     "output_type": "execute_result"
    }
   ],
   "source": [
    "type(fractions)"
   ],
   "metadata": {
    "collapsed": false,
    "pycharm": {
     "name": "#%%\n"
    }
   }
  },
  {
   "cell_type": "code",
   "execution_count": 27,
   "outputs": [],
   "source": [
    "import sys\n",
    "import math"
   ],
   "metadata": {
    "collapsed": false,
    "pycharm": {
     "name": "#%%\n"
    }
   }
  },
  {
   "cell_type": "code",
   "execution_count": 25,
   "outputs": [
    {
     "data": {
      "text/plain": "dict"
     },
     "execution_count": 25,
     "metadata": {},
     "output_type": "execute_result"
    }
   ],
   "source": [
    "type(sys.modules)"
   ],
   "metadata": {
    "collapsed": false,
    "pycharm": {
     "name": "#%%\n"
    }
   }
  },
  {
   "cell_type": "code",
   "execution_count": 28,
   "outputs": [
    {
     "data": {
      "text/plain": "'math'"
     },
     "execution_count": 28,
     "metadata": {},
     "output_type": "execute_result"
    }
   ],
   "source": [
    "math.__name__"
   ],
   "metadata": {
    "collapsed": false,
    "pycharm": {
     "name": "#%%\n"
    }
   }
  },
  {
   "cell_type": "code",
   "execution_count": 29,
   "outputs": [
    {
     "data": {
      "text/plain": "{'__name__': 'math',\n '__doc__': 'This module provides access to the mathematical functions\\ndefined by the C standard.',\n '__package__': '',\n '__loader__': <_frozen_importlib_external.ExtensionFileLoader at 0x109343f40>,\n '__spec__': ModuleSpec(name='math', loader=<_frozen_importlib_external.ExtensionFileLoader object at 0x109343f40>, origin='/usr/local/opt/python@3.8/Frameworks/Python.framework/Versions/3.8/lib/python3.8/lib-dynload/math.cpython-38-darwin.so'),\n 'acos': <function math.acos(x, /)>,\n 'acosh': <function math.acosh(x, /)>,\n 'asin': <function math.asin(x, /)>,\n 'asinh': <function math.asinh(x, /)>,\n 'atan': <function math.atan(x, /)>,\n 'atan2': <function math.atan2(y, x, /)>,\n 'atanh': <function math.atanh(x, /)>,\n 'ceil': <function math.ceil(x, /)>,\n 'copysign': <function math.copysign(x, y, /)>,\n 'cos': <function math.cos(x, /)>,\n 'cosh': <function math.cosh(x, /)>,\n 'degrees': <function math.degrees(x, /)>,\n 'dist': <function math.dist(p, q, /)>,\n 'erf': <function math.erf(x, /)>,\n 'erfc': <function math.erfc(x, /)>,\n 'exp': <function math.exp(x, /)>,\n 'expm1': <function math.expm1(x, /)>,\n 'fabs': <function math.fabs(x, /)>,\n 'factorial': <function math.factorial(x, /)>,\n 'floor': <function math.floor(x, /)>,\n 'fmod': <function math.fmod(x, y, /)>,\n 'frexp': <function math.frexp(x, /)>,\n 'fsum': <function math.fsum(seq, /)>,\n 'gamma': <function math.gamma(x, /)>,\n 'gcd': <function math.gcd(x, y, /)>,\n 'hypot': <function math.hypot>,\n 'isclose': <function math.isclose(a, b, *, rel_tol=1e-09, abs_tol=0.0)>,\n 'isfinite': <function math.isfinite(x, /)>,\n 'isinf': <function math.isinf(x, /)>,\n 'isnan': <function math.isnan(x, /)>,\n 'isqrt': <function math.isqrt(n, /)>,\n 'ldexp': <function math.ldexp(x, i, /)>,\n 'lgamma': <function math.lgamma(x, /)>,\n 'log': <function math.log>,\n 'log1p': <function math.log1p(x, /)>,\n 'log10': <function math.log10(x, /)>,\n 'log2': <function math.log2(x, /)>,\n 'modf': <function math.modf(x, /)>,\n 'pow': <function math.pow(x, y, /)>,\n 'radians': <function math.radians(x, /)>,\n 'remainder': <function math.remainder(x, y, /)>,\n 'sin': <function math.sin(x, /)>,\n 'sinh': <function math.sinh(x, /)>,\n 'sqrt': <function math.sqrt(x, /)>,\n 'tan': <function math.tan(x, /)>,\n 'tanh': <function math.tanh(x, /)>,\n 'trunc': <function math.trunc(x, /)>,\n 'prod': <function math.prod(iterable, /, *, start=1)>,\n 'perm': <function math.perm(n, k=None, /)>,\n 'comb': <function math.comb(n, k, /)>,\n 'pi': 3.141592653589793,\n 'e': 2.718281828459045,\n 'tau': 6.283185307179586,\n 'inf': inf,\n 'nan': nan,\n '__file__': '/usr/local/opt/python@3.8/Frameworks/Python.framework/Versions/3.8/lib/python3.8/lib-dynload/math.cpython-38-darwin.so'}"
     },
     "execution_count": 29,
     "metadata": {},
     "output_type": "execute_result"
    }
   ],
   "source": [
    "math.__dict__"
   ],
   "metadata": {
    "collapsed": false,
    "pycharm": {
     "name": "#%%\n"
    }
   }
  },
  {
   "cell_type": "code",
   "execution_count": 30,
   "outputs": [],
   "source": [
    "import fractions"
   ],
   "metadata": {
    "collapsed": false,
    "pycharm": {
     "name": "#%%\n"
    }
   }
  },
  {
   "cell_type": "code",
   "execution_count": 31,
   "outputs": [
    {
     "data": {
      "text/plain": "{'__name__': 'fractions',\n '__doc__': 'Fraction, infinite-precision, real numbers.',\n '__package__': '',\n '__loader__': <_frozen_importlib_external.SourceFileLoader at 0x10aeb8d60>,\n '__spec__': ModuleSpec(name='fractions', loader=<_frozen_importlib_external.SourceFileLoader object at 0x10aeb8d60>, origin='/usr/local/opt/python@3.8/Frameworks/Python.framework/Versions/3.8/lib/python3.8/fractions.py'),\n '__file__': '/usr/local/opt/python@3.8/Frameworks/Python.framework/Versions/3.8/lib/python3.8/fractions.py',\n '__cached__': '/usr/local/opt/python@3.8/Frameworks/Python.framework/Versions/3.8/lib/python3.8/__pycache__/fractions.cpython-38.pyc',\n '__builtins__': {'__name__': 'builtins',\n  '__doc__': \"Built-in functions, exceptions, and other objects.\\n\\nNoteworthy: None is the `nil' object; Ellipsis represents `...' in slices.\",\n  '__package__': '',\n  '__loader__': _frozen_importlib.BuiltinImporter,\n  '__spec__': ModuleSpec(name='builtins', loader=<class '_frozen_importlib.BuiltinImporter'>),\n  '__build_class__': <function __build_class__>,\n  '__import__': <function __import__>,\n  'abs': <function abs(x, /)>,\n  'all': <function all(iterable, /)>,\n  'any': <function any(iterable, /)>,\n  'ascii': <function ascii(obj, /)>,\n  'bin': <function bin(number, /)>,\n  'breakpoint': <function breakpoint>,\n  'callable': <function callable(obj, /)>,\n  'chr': <function chr(i, /)>,\n  'compile': <function compile(source, filename, mode, flags=0, dont_inherit=False, optimize=-1, *, _feature_version=-1)>,\n  'delattr': <function delattr(obj, name, /)>,\n  'dir': <function dir>,\n  'divmod': <function divmod(x, y, /)>,\n  'eval': <function eval(source, globals=None, locals=None, /)>,\n  'exec': <function exec(source, globals=None, locals=None, /)>,\n  'format': <function format(value, format_spec='', /)>,\n  'getattr': <function getattr>,\n  'globals': <function globals()>,\n  'hasattr': <function hasattr(obj, name, /)>,\n  'hash': <function hash(obj, /)>,\n  'hex': <function hex(number, /)>,\n  'id': <function id(obj, /)>,\n  'input': <bound method Kernel.raw_input of <ipykernel.ipkernel.IPythonKernel object at 0x10cac1f40>>,\n  'isinstance': <function isinstance(obj, class_or_tuple, /)>,\n  'issubclass': <function issubclass(cls, class_or_tuple, /)>,\n  'iter': <function iter>,\n  'len': <function len(obj, /)>,\n  'locals': <function locals()>,\n  'max': <function max>,\n  'min': <function min>,\n  'next': <function next>,\n  'oct': <function oct(number, /)>,\n  'ord': <function ord(c, /)>,\n  'pow': <function pow(base, exp, mod=None)>,\n  'print': <function print>,\n  'repr': <function repr(obj, /)>,\n  'round': <function round(number, ndigits=None)>,\n  'setattr': <function setattr(obj, name, value, /)>,\n  'sorted': <function sorted(iterable, /, *, key=None, reverse=False)>,\n  'sum': <function sum(iterable, /, start=0)>,\n  'vars': <function vars>,\n  'None': None,\n  'Ellipsis': Ellipsis,\n  'NotImplemented': NotImplemented,\n  'False': False,\n  'True': True,\n  'bool': bool,\n  'memoryview': memoryview,\n  'bytearray': bytearray,\n  'bytes': bytes,\n  'classmethod': classmethod,\n  'complex': complex,\n  'dict': dict,\n  'enumerate': enumerate,\n  'filter': filter,\n  'float': float,\n  'frozenset': frozenset,\n  'property': property,\n  'int': int,\n  'list': list,\n  'map': map,\n  'object': object,\n  'range': range,\n  'reversed': reversed,\n  'set': set,\n  'slice': slice,\n  'staticmethod': staticmethod,\n  'str': str,\n  'super': super,\n  'tuple': tuple,\n  'type': type,\n  'zip': zip,\n  '__debug__': True,\n  'BaseException': BaseException,\n  'Exception': Exception,\n  'TypeError': TypeError,\n  'StopAsyncIteration': StopAsyncIteration,\n  'StopIteration': StopIteration,\n  'GeneratorExit': GeneratorExit,\n  'SystemExit': SystemExit,\n  'KeyboardInterrupt': KeyboardInterrupt,\n  'ImportError': ImportError,\n  'ModuleNotFoundError': ModuleNotFoundError,\n  'OSError': OSError,\n  'EnvironmentError': OSError,\n  'IOError': OSError,\n  'EOFError': EOFError,\n  'RuntimeError': RuntimeError,\n  'RecursionError': RecursionError,\n  'NotImplementedError': NotImplementedError,\n  'NameError': NameError,\n  'UnboundLocalError': UnboundLocalError,\n  'AttributeError': AttributeError,\n  'SyntaxError': SyntaxError,\n  'IndentationError': IndentationError,\n  'TabError': TabError,\n  'LookupError': LookupError,\n  'IndexError': IndexError,\n  'KeyError': KeyError,\n  'ValueError': ValueError,\n  'UnicodeError': UnicodeError,\n  'UnicodeEncodeError': UnicodeEncodeError,\n  'UnicodeDecodeError': UnicodeDecodeError,\n  'UnicodeTranslateError': UnicodeTranslateError,\n  'AssertionError': AssertionError,\n  'ArithmeticError': ArithmeticError,\n  'FloatingPointError': FloatingPointError,\n  'OverflowError': OverflowError,\n  'ZeroDivisionError': ZeroDivisionError,\n  'SystemError': SystemError,\n  'ReferenceError': ReferenceError,\n  'MemoryError': MemoryError,\n  'BufferError': BufferError,\n  'Warning': Warning,\n  'UserWarning': UserWarning,\n  'DeprecationWarning': DeprecationWarning,\n  'PendingDeprecationWarning': PendingDeprecationWarning,\n  'SyntaxWarning': SyntaxWarning,\n  'RuntimeWarning': RuntimeWarning,\n  'FutureWarning': FutureWarning,\n  'ImportWarning': ImportWarning,\n  'UnicodeWarning': UnicodeWarning,\n  'BytesWarning': BytesWarning,\n  'ResourceWarning': ResourceWarning,\n  'ConnectionError': ConnectionError,\n  'BlockingIOError': BlockingIOError,\n  'BrokenPipeError': BrokenPipeError,\n  'ChildProcessError': ChildProcessError,\n  'ConnectionAbortedError': ConnectionAbortedError,\n  'ConnectionRefusedError': ConnectionRefusedError,\n  'ConnectionResetError': ConnectionResetError,\n  'FileExistsError': FileExistsError,\n  'FileNotFoundError': FileNotFoundError,\n  'IsADirectoryError': IsADirectoryError,\n  'NotADirectoryError': NotADirectoryError,\n  'InterruptedError': InterruptedError,\n  'PermissionError': PermissionError,\n  'ProcessLookupError': ProcessLookupError,\n  'TimeoutError': TimeoutError,\n  'open': <function io.open(file, mode='r', buffering=-1, encoding=None, errors=None, newline=None, closefd=True, opener=None)>,\n  'copyright': Copyright (c) 2001-2022 Python Software Foundation.\n  All Rights Reserved.\n  \n  Copyright (c) 2000 BeOpen.com.\n  All Rights Reserved.\n  \n  Copyright (c) 1995-2001 Corporation for National Research Initiatives.\n  All Rights Reserved.\n  \n  Copyright (c) 1991-1995 Stichting Mathematisch Centrum, Amsterdam.\n  All Rights Reserved.,\n  'credits':     Thanks to CWI, CNRI, BeOpen.com, Zope Corporation and a cast of thousands\n      for supporting Python development.  See www.python.org for more information.,\n  'license': Type license() to see the full license text,\n  'help': Type help() for interactive help, or help(object) for help about object.,\n  'execfile': <function _pydev_bundle._pydev_execfile.execfile(file, glob=None, loc=None)>,\n  'runfile': <function _pydev_bundle.pydev_umd.runfile(filename, args=None, wdir=None, namespace=None)>,\n  '__IPYTHON__': True,\n  'display': <function IPython.core.display_functions.display(*objs, include=None, exclude=None, metadata=None, transient=None, display_id=None, raw=False, clear=False, **kwargs)>,\n  'get_ipython': <bound method InteractiveShell.get_ipython of <ipykernel.zmqshell.ZMQInteractiveShell object at 0x10caeb4c0>>},\n 'Decimal': decimal.Decimal,\n 'math': <module 'math' from '/usr/local/opt/python@3.8/Frameworks/Python.framework/Versions/3.8/lib/python3.8/lib-dynload/math.cpython-38-darwin.so'>,\n 'numbers': <module 'numbers' from '/usr/local/opt/python@3.8/Frameworks/Python.framework/Versions/3.8/lib/python3.8/numbers.py'>,\n 'operator': <module 'operator' from '/usr/local/opt/python@3.8/Frameworks/Python.framework/Versions/3.8/lib/python3.8/operator.py'>,\n 're': <module 're' from '/usr/local/opt/python@3.8/Frameworks/Python.framework/Versions/3.8/lib/python3.8/re.py'>,\n 'sys': <module 'sys' (built-in)>,\n '__all__': ['Fraction', 'gcd'],\n 'gcd': <function fractions.gcd(a, b)>,\n '_gcd': <function fractions._gcd(a, b)>,\n '_PyHASH_MODULUS': 2305843009213693951,\n '_PyHASH_INF': 314159,\n '_RATIONAL_FORMAT': re.compile(r'\\n    \\A\\s*                      # optional whitespace at the start, then\\n    (?P<sign>[-+]?)            # an optional sign, then\\n    (?=\\d|\\.\\d)                # lookahead for digit or .digit\\n    (?P<num>\\d*)               # numerator (possibly empty)\\n    (?:                        # followed by\\n       (?:/(?P<denom>\\d+))?    # an optional denominator\\n    |                          # or\\n       (?:\\.(?P<decimal>\\d*))? # an optional fractional part\\n       (?:E(?P<exp>[-+]?\\d+))? # and optional exponent\\n    )\\n    \\s*\\Z                      # and optional whitespace to finish\\n',\n            re.IGNORECASE|re.UNICODE|re.VERBOSE),\n 'Fraction': fractions.Fraction}"
     },
     "execution_count": 31,
     "metadata": {},
     "output_type": "execute_result"
    }
   ],
   "source": [
    "fractions.__dict__"
   ],
   "metadata": {
    "collapsed": false,
    "pycharm": {
     "name": "#%%\n"
    }
   }
  },
  {
   "cell_type": "code",
   "execution_count": 32,
   "outputs": [
    {
     "data": {
      "text/plain": "['Decimal',\n 'Fraction',\n '_PyHASH_INF',\n '_PyHASH_MODULUS',\n '_RATIONAL_FORMAT',\n '__all__',\n '__builtins__',\n '__cached__',\n '__doc__',\n '__file__',\n '__loader__',\n '__name__',\n '__package__',\n '__spec__',\n '_gcd',\n 'gcd',\n 'math',\n 'numbers',\n 'operator',\n 're',\n 'sys']"
     },
     "execution_count": 32,
     "metadata": {},
     "output_type": "execute_result"
    }
   ],
   "source": [
    "dir(fractions)"
   ],
   "metadata": {
    "collapsed": false,
    "pycharm": {
     "name": "#%%\n"
    }
   }
  },
  {
   "cell_type": "code",
   "execution_count": 33,
   "outputs": [],
   "source": [
    "import types"
   ],
   "metadata": {
    "collapsed": false,
    "pycharm": {
     "name": "#%%\n"
    }
   }
  },
  {
   "cell_type": "code",
   "execution_count": 34,
   "outputs": [
    {
     "data": {
      "text/plain": "True"
     },
     "execution_count": 34,
     "metadata": {},
     "output_type": "execute_result"
    }
   ],
   "source": [
    "isinstance(fractions, types.ModuleType)"
   ],
   "metadata": {
    "collapsed": false,
    "pycharm": {
     "name": "#%%\n"
    }
   }
  },
  {
   "cell_type": "code",
   "execution_count": 35,
   "outputs": [],
   "source": [
    "mod = types.ModuleType('test', \"this is a test module\")"
   ],
   "metadata": {
    "collapsed": false,
    "pycharm": {
     "name": "#%%\n"
    }
   }
  },
  {
   "cell_type": "code",
   "execution_count": 36,
   "outputs": [
    {
     "data": {
      "text/plain": "True"
     },
     "execution_count": 36,
     "metadata": {},
     "output_type": "execute_result"
    }
   ],
   "source": [
    "isinstance(mod, types.ModuleType)"
   ],
   "metadata": {
    "collapsed": false,
    "pycharm": {
     "name": "#%%\n"
    }
   }
  },
  {
   "cell_type": "code",
   "execution_count": 37,
   "outputs": [],
   "source": [
    "mod.pi = 3.12"
   ],
   "metadata": {
    "collapsed": false,
    "pycharm": {
     "name": "#%%\n"
    }
   }
  },
  {
   "cell_type": "code",
   "execution_count": 38,
   "outputs": [
    {
     "data": {
      "text/plain": "3.12"
     },
     "execution_count": 38,
     "metadata": {},
     "output_type": "execute_result"
    }
   ],
   "source": [
    "mod.pi"
   ],
   "metadata": {
    "collapsed": false,
    "pycharm": {
     "name": "#%%\n"
    }
   }
  },
  {
   "cell_type": "code",
   "execution_count": 39,
   "outputs": [],
   "source": [
    "mod.hello = lambda: \"hello\""
   ],
   "metadata": {
    "collapsed": false,
    "pycharm": {
     "name": "#%%\n"
    }
   }
  },
  {
   "cell_type": "code",
   "execution_count": 40,
   "outputs": [],
   "source": [
    "import sys"
   ],
   "metadata": {
    "collapsed": false,
    "pycharm": {
     "name": "#%%\n"
    }
   }
  },
  {
   "cell_type": "code",
   "execution_count": 41,
   "outputs": [
    {
     "data": {
      "text/plain": "'/Users/vitalim/Projects/courses/python_deep_dive/venv'"
     },
     "execution_count": 41,
     "metadata": {},
     "output_type": "execute_result"
    }
   ],
   "source": [
    "sys.prefix"
   ],
   "metadata": {
    "collapsed": false,
    "pycharm": {
     "name": "#%%\n"
    }
   }
  },
  {
   "cell_type": "code",
   "execution_count": 42,
   "outputs": [
    {
     "data": {
      "text/plain": "['/Users/vitalim/Library/Application Support/JetBrains/IntelliJIdea2022.2/plugins/python/helpers-pro/jupyter_debug',\n '/Users/vitalim/Library/Application Support/JetBrains/IntelliJIdea2022.2/plugins/python/helpers/pydev',\n '/Users/vitalim/Projects/courses/python_deep_dive/modules_packages',\n '/Users/vitalim/Projects/courses/python_deep_dive',\n '/Users/vitalim/Projects/courses/python_deep_dive/spark-nlp',\n '/usr/local/opt/python@3.8/Frameworks/Python.framework/Versions/3.8/lib/python38.zip',\n '/usr/local/opt/python@3.8/Frameworks/Python.framework/Versions/3.8/lib/python3.8',\n '/usr/local/opt/python@3.8/Frameworks/Python.framework/Versions/3.8/lib/python3.8/lib-dynload',\n '',\n '/Users/vitalim/Projects/courses/python_deep_dive/venv/lib/python3.8/site-packages']"
     },
     "execution_count": 42,
     "metadata": {},
     "output_type": "execute_result"
    }
   ],
   "source": [
    "sys.path"
   ],
   "metadata": {
    "collapsed": false,
    "pycharm": {
     "name": "#%%\n"
    }
   }
  },
  {
   "cell_type": "code",
   "execution_count": null,
   "outputs": [],
   "source": [],
   "metadata": {
    "collapsed": false,
    "pycharm": {
     "name": "#%%\n"
    }
   }
  }
 ],
 "metadata": {
  "kernelspec": {
   "display_name": "Python 3",
   "language": "python",
   "name": "python3"
  },
  "language_info": {
   "codemirror_mode": {
    "name": "ipython",
    "version": 2
   },
   "file_extension": ".py",
   "mimetype": "text/x-python",
   "name": "python",
   "nbconvert_exporter": "python",
   "pygments_lexer": "ipython2",
   "version": "2.7.6"
  }
 },
 "nbformat": 4,
 "nbformat_minor": 0
}