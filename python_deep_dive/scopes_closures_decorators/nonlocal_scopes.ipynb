{
 "cells": [
  {
   "cell_type": "code",
   "execution_count": 2,
   "metadata": {
    "collapsed": true,
    "pycharm": {
     "name": "#%%\n"
    }
   },
   "outputs": [],
   "source": [
    "def outer_func():\n",
    "    x = \"hello\"\n",
    "\n",
    "    def inner_func():\n",
    "        print(x)\n",
    "\n",
    "    inner_func()"
   ]
  },
  {
   "cell_type": "code",
   "execution_count": 3,
   "outputs": [
    {
     "name": "stdout",
     "output_type": "stream",
     "text": [
      "hello\n"
     ]
    }
   ],
   "source": [
    "outer_func()"
   ],
   "metadata": {
    "collapsed": false,
    "pycharm": {
     "name": "#%%\n"
    }
   }
  },
  {
   "cell_type": "code",
   "execution_count": 4,
   "outputs": [],
   "source": [
    "def outer_func():\n",
    "    x = \"hello\"\n",
    "\n",
    "    def inner_1():\n",
    "        def inner_2():\n",
    "            print(x)\n",
    "\n",
    "        inner_2()\n",
    "\n",
    "    inner_1()"
   ],
   "metadata": {
    "collapsed": false,
    "pycharm": {
     "name": "#%%\n"
    }
   }
  },
  {
   "cell_type": "code",
   "execution_count": 5,
   "outputs": [
    {
     "name": "stdout",
     "output_type": "stream",
     "text": [
      "hello\n"
     ]
    }
   ],
   "source": [
    "outer_func()"
   ],
   "metadata": {
    "collapsed": false,
    "pycharm": {
     "name": "#%%\n"
    }
   }
  },
  {
   "cell_type": "code",
   "execution_count": 12,
   "outputs": [],
   "source": [
    "def outer_func():\n",
    "    x = \"hello\"\n",
    "\n",
    "    def inner_func():\n",
    "        nonlocal x\n",
    "        x = \"python\"\n",
    "        print(\"inner\", x)\n",
    "\n",
    "    print(f\"outer before inner {x}\")\n",
    "    inner_func()\n",
    "    print(f\"outer after inner {x}\")"
   ],
   "metadata": {
    "collapsed": false,
    "pycharm": {
     "name": "#%%\n"
    }
   }
  },
  {
   "cell_type": "code",
   "execution_count": 13,
   "outputs": [
    {
     "name": "stdout",
     "output_type": "stream",
     "text": [
      "outer before inner hello\n",
      "inner python\n",
      "outer after inner python\n"
     ]
    }
   ],
   "source": [
    "outer_func()"
   ],
   "metadata": {
    "collapsed": false,
    "pycharm": {
     "name": "#%%\n"
    }
   }
  },
  {
   "cell_type": "code",
   "execution_count": 41,
   "outputs": [
    {
     "ename": "SyntaxError",
     "evalue": "no binding for nonlocal 'x' found (2666972458.py, line 5)",
     "output_type": "error",
     "traceback": [
      "\u001B[0;36m  Cell \u001B[0;32mIn [41], line 5\u001B[0;36m\u001B[0m\n\u001B[0;31m    nonlocal x\u001B[0m\n\u001B[0m    ^\u001B[0m\n\u001B[0;31mSyntaxError\u001B[0m\u001B[0;31m:\u001B[0m no binding for nonlocal 'x' found\n"
     ]
    }
   ],
   "source": [
    "x = \"wow\"\n",
    "def outer():\n",
    "    def inner_1():\n",
    "        def inner_2():\n",
    "            nonlocal x\n",
    "            x = \"monty\"\n",
    "\n",
    "        inner_2()\n",
    "    inner_1()\n",
    "    print(x)"
   ],
   "metadata": {
    "collapsed": false,
    "pycharm": {
     "name": "#%%\n"
    }
   }
  },
  {
   "cell_type": "code",
   "execution_count": 42,
   "outputs": [
    {
     "name": "stdout",
     "output_type": "stream",
     "text": [
      "{'inner_2': <function outer.<locals>.inner.<locals>.inner_2 at 0x12d172160>, 'x': 'monty'}\n",
      "{'x': 'monty'}\n",
      "{'inner_2': <function outer.<locals>.inner.<locals>.inner_2 at 0x12d172160>, 'x': 'inner_2'}\n",
      "after inner_2 in inner inner_2\n",
      "inner_2\n"
     ]
    }
   ],
   "source": [
    "outer()"
   ],
   "metadata": {
    "collapsed": false,
    "pycharm": {
     "name": "#%%\n"
    }
   }
  },
  {
   "cell_type": "code",
   "execution_count": 44,
   "outputs": [],
   "source": [
    "x = \"python\"\n",
    "\n",
    "\n",
    "def outer():\n",
    "    x = \"monty\"\n",
    "\n",
    "    def inner():\n",
    "        x = \"vitali\"\n",
    "        def inner_2():\n",
    "            nonlocal x\n",
    "            x = \"inner_2\"\n",
    "        inner_2()\n",
    "        print(\"after inner_2 in inner\", x)\n",
    "\n",
    "    inner()\n",
    "    print(x)"
   ],
   "metadata": {
    "collapsed": false,
    "pycharm": {
     "name": "#%%\n"
    }
   }
  },
  {
   "cell_type": "code",
   "execution_count": 45,
   "outputs": [
    {
     "name": "stdout",
     "output_type": "stream",
     "text": [
      "after inner_2 in inner inner_2\n",
      "monty\n"
     ]
    }
   ],
   "source": [
    "outer()"
   ],
   "metadata": {
    "collapsed": false,
    "pycharm": {
     "name": "#%%\n"
    }
   }
  },
  {
   "cell_type": "code",
   "execution_count": null,
   "outputs": [],
   "source": [],
   "metadata": {
    "collapsed": false,
    "pycharm": {
     "name": "#%%\n"
    }
   }
  }
 ],
 "metadata": {
  "kernelspec": {
   "display_name": "Python 3",
   "language": "python",
   "name": "python3"
  },
  "language_info": {
   "codemirror_mode": {
    "name": "ipython",
    "version": 2
   },
   "file_extension": ".py",
   "mimetype": "text/x-python",
   "name": "python",
   "nbconvert_exporter": "python",
   "pygments_lexer": "ipython2",
   "version": "2.7.6"
  }
 },
 "nbformat": 4,
 "nbformat_minor": 0
}